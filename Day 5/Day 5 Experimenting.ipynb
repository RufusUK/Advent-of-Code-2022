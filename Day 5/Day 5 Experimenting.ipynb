{
 "cells": [
  {
   "cell_type": "markdown",
   "metadata": {},
   "source": [
    "# Advent of Code 2022"
   ]
  },
  {
   "cell_type": "markdown",
   "metadata": {},
   "source": [
    "## Day 5"
   ]
  },
  {
   "cell_type": "markdown",
   "metadata": {},
   "source": [
    "### Elves and Cranes"
   ]
  },
  {
   "cell_type": "code",
   "execution_count": 1,
   "metadata": {},
   "outputs": [],
   "source": [
    "List1 = [\"Z\",\"N\"]\n",
    "List2 = [\"M\",\"C\",\"D\"]\n",
    "List3 = [\"P\"]\n",
    "Crates = {1 : [\"Z\",\"N\"], 2 : [\"M\",\"C\",\"D\"], 3 : [\"P\"] }"
   ]
  },
  {
   "cell_type": "code",
   "execution_count": 2,
   "metadata": {},
   "outputs": [],
   "source": [
    "#code to move last item from List 1 to List2\n",
    "temp = List2.append(List1.pop())\n"
   ]
  },
  {
   "cell_type": "code",
   "execution_count": 18,
   "metadata": {},
   "outputs": [],
   "source": [
    "# Code to move items within dictionary\n",
    "temp = Crates[2].append(Crates[1].pop())"
   ]
  },
  {
   "cell_type": "code",
   "execution_count": 25,
   "metadata": {},
   "outputs": [
    {
     "data": {
      "text/plain": [
       "{1: ['Z'], 2: ['M', 'C', 'D', 'N'], 3: ['P']}"
      ]
     },
     "execution_count": 25,
     "metadata": {},
     "output_type": "execute_result"
    }
   ],
   "source": [
    "Crates"
   ]
  },
  {
   "cell_type": "code",
   "execution_count": 5,
   "metadata": {},
   "outputs": [],
   "source": [
    "temp"
   ]
  },
  {
   "cell_type": "code",
   "execution_count": 23,
   "metadata": {},
   "outputs": [],
   "source": [
    "#Now we've got to get the inputs from the file\n",
    "# Open File\n",
    "file = open(\"sample.txt\", \"r\")\n",
    "input = file.read()\n",
    "\n",
    "# Create a List of the file entries\n",
    "list = input.split(\"\\n\")\n",
    "\n",
    "# Close the file\n",
    "file.close()\n"
   ]
  },
  {
   "cell_type": "code",
   "execution_count": 8,
   "metadata": {},
   "outputs": [
    {
     "data": {
      "text/plain": [
       "['    [D]    ',\n",
       " '[N] [C]    ',\n",
       " '[Z] [M] [P]',\n",
       " ' 1   2   3 ',\n",
       " '',\n",
       " 'move 1 from 2 to 1',\n",
       " 'move 3 from 1 to 3',\n",
       " 'move 2 from 2 to 1',\n",
       " 'move 1 from 1 to 2']"
      ]
     },
     "execution_count": 8,
     "metadata": {},
     "output_type": "execute_result"
    }
   ],
   "source": [
    "list"
   ]
  },
  {
   "cell_type": "code",
   "execution_count": 24,
   "metadata": {},
   "outputs": [],
   "source": [
    "# Find location of blank line\n",
    "blank = list.index('')\n",
    "\n",
    "\n"
   ]
  },
  {
   "cell_type": "code",
   "execution_count": 3,
   "metadata": {},
   "outputs": [],
   "source": [
    "# Get the names of the crates out of the data\n",
    "cratenames = list[blank-1].split()"
   ]
  },
  {
   "cell_type": "code",
   "execution_count": 25,
   "metadata": {},
   "outputs": [],
   "source": [
    "#Initialise the crates\n",
    "loc = 1\n",
    "Crates = {}\n",
    "for i in range(len(list[blank-1].split())):\n",
    "    Crates[i+1] = []\n",
    "    for ele in range(blank-2,-1,-1):\n",
    "        if list[ele][1 + (i * 4)] != ' ':\n",
    "            Crates[i+1].append(list[ele][1 + (i * 4)])"
   ]
  },
  {
   "cell_type": "code",
   "execution_count": 26,
   "metadata": {},
   "outputs": [
    {
     "data": {
      "text/plain": [
       "{1: ['Z', 'N'], 2: ['M', 'C', 'D'], 3: ['P']}"
      ]
     },
     "execution_count": 26,
     "metadata": {},
     "output_type": "execute_result"
    }
   ],
   "source": [
    "Crates"
   ]
  },
  {
   "cell_type": "code",
   "execution_count": 6,
   "metadata": {},
   "outputs": [
    {
     "data": {
      "text/plain": [
       "['    [D]    ',\n",
       " '[N] [C]    ',\n",
       " '[Z] [M] [P]',\n",
       " ' 1   2   3 ',\n",
       " '',\n",
       " 'move 1 from 2 to 1',\n",
       " 'move 3 from 1 to 3',\n",
       " 'move 2 from 2 to 1',\n",
       " 'move 1 from 1 to 2']"
      ]
     },
     "execution_count": 6,
     "metadata": {},
     "output_type": "execute_result"
    }
   ],
   "source": [
    "list"
   ]
  },
  {
   "cell_type": "code",
   "execution_count": 6,
   "metadata": {},
   "outputs": [
    {
     "data": {
      "text/plain": [
       "9"
      ]
     },
     "execution_count": 6,
     "metadata": {},
     "output_type": "execute_result"
    }
   ],
   "source": [
    "len(list)"
   ]
  },
  {
   "cell_type": "code",
   "execution_count": 15,
   "metadata": {},
   "outputs": [],
   "source": [
    "# Code for one at a time move\n",
    "for ele in range(blank+1,len(list)):\n",
    "    instruction=list[ele].split()\n",
    "    for i in range(int(instruction[1])):\n",
    "        temp = Crates[int(instruction[5])].append(Crates[int(instruction[3])].pop())\n",
    "    \n"
   ]
  },
  {
   "cell_type": "code",
   "execution_count": 14,
   "metadata": {},
   "outputs": [
    {
     "data": {
      "text/plain": [
       "'1'"
      ]
     },
     "execution_count": 14,
     "metadata": {},
     "output_type": "execute_result"
    }
   ],
   "source": [
    "instruction[5]"
   ]
  },
  {
   "cell_type": "code",
   "execution_count": 17,
   "metadata": {},
   "outputs": [
    {
     "data": {
      "text/plain": [
       "{1: ['C'], 2: ['M'], 3: ['P', 'D', 'N', 'Z']}"
      ]
     },
     "execution_count": 17,
     "metadata": {},
     "output_type": "execute_result"
    }
   ],
   "source": [
    "Crates"
   ]
  },
  {
   "cell_type": "code",
   "execution_count": 21,
   "metadata": {},
   "outputs": [],
   "source": [
    "d = ''\n",
    "for ele in Crates:\n",
    "    d = d + Crates[ele][-1]\n"
   ]
  },
  {
   "cell_type": "code",
   "execution_count": 22,
   "metadata": {},
   "outputs": [
    {
     "data": {
      "text/plain": [
       "'CMZ'"
      ]
     },
     "execution_count": 22,
     "metadata": {},
     "output_type": "execute_result"
    }
   ],
   "source": [
    "d"
   ]
  },
  {
   "cell_type": "code",
   "execution_count": 29,
   "metadata": {},
   "outputs": [
    {
     "data": {
      "text/plain": [
       "['M', 'C', 'D']"
      ]
     },
     "execution_count": 29,
     "metadata": {},
     "output_type": "execute_result"
    }
   ],
   "source": [
    "# Code for moving multiple crates at a time\n",
    "\n",
    "for ele in range(blank+1,len(list)):\n",
    "    instruction=list[ele].split()\n",
    "    Crates[int(instruction[5])] = Crates[int(instruction[5])] + Crates[int(instruction[3])][len(Crates[int(instruction[3])])-int(instruction[1]):]\n",
    "    Crates[int(instruction[3])]=Crates[int(instruction[3])][:len(Crates[int(instruction[3])])-int(instruction[1])]"
   ]
  },
  {
   "cell_type": "code",
   "execution_count": 34,
   "metadata": {},
   "outputs": [
    {
     "data": {
      "text/plain": [
       "['C', 'D']"
      ]
     },
     "execution_count": 34,
     "metadata": {},
     "output_type": "execute_result"
    }
   ],
   "source": [
    "Crates[2][len(Crates[2])-2:]"
   ]
  },
  {
   "cell_type": "code",
   "execution_count": 35,
   "metadata": {},
   "outputs": [],
   "source": [
    "Crates[1] = Crates[1] + Crates[2][len(Crates[2])-2:]"
   ]
  },
  {
   "cell_type": "code",
   "execution_count": 36,
   "metadata": {},
   "outputs": [
    {
     "data": {
      "text/plain": [
       "['Z', 'N', 'C', 'D']"
      ]
     },
     "execution_count": 36,
     "metadata": {},
     "output_type": "execute_result"
    }
   ],
   "source": [
    "Crates[1]"
   ]
  },
  {
   "cell_type": "code",
   "execution_count": 37,
   "metadata": {},
   "outputs": [],
   "source": [
    "Crates[2]=Crates[2][:len(Crates[2])-2]"
   ]
  },
  {
   "cell_type": "code",
   "execution_count": 38,
   "metadata": {},
   "outputs": [
    {
     "data": {
      "text/plain": [
       "['M']"
      ]
     },
     "execution_count": 38,
     "metadata": {},
     "output_type": "execute_result"
    }
   ],
   "source": [
    "Crates[2]"
   ]
  },
  {
   "cell_type": "code",
   "execution_count": null,
   "metadata": {},
   "outputs": [],
   "source": []
  }
 ],
 "metadata": {
  "kernelspec": {
   "display_name": "Python 3.10.4 64-bit",
   "language": "python",
   "name": "python3"
  },
  "language_info": {
   "codemirror_mode": {
    "name": "ipython",
    "version": 3
   },
   "file_extension": ".py",
   "mimetype": "text/x-python",
   "name": "python",
   "nbconvert_exporter": "python",
   "pygments_lexer": "ipython3",
   "version": "3.10.4"
  },
  "orig_nbformat": 4,
  "vscode": {
   "interpreter": {
    "hash": "52c95d02f1bfe7c59da35d3ff8fa76f7d162251a8bf0068369a0a87df4b3e5e7"
   }
  }
 },
 "nbformat": 4,
 "nbformat_minor": 2
}
