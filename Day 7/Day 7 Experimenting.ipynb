{
 "cells": [
  {
   "cell_type": "markdown",
   "metadata": {},
   "source": [
    "# Advent of Code 2022"
   ]
  },
  {
   "cell_type": "markdown",
   "metadata": {},
   "source": [
    "## Day 7"
   ]
  },
  {
   "cell_type": "markdown",
   "metadata": {},
   "source": [
    "### Clearing space"
   ]
  },
  {
   "cell_type": "markdown",
   "metadata": {},
   "source": [
    "High level plan - read the input file in as usual to a Python list with one entry per row.\n",
    "\n",
    "For a row that begins \"cd\" update location variable to keep track of where we are\n",
    "Ignore rows that begin ls or dir\n",
    "If row begins with a number, add that to the current directory total as well as any parent directories\n",
    "\n",
    "We don't need to know file names."
   ]
  },
  {
   "cell_type": "code",
   "execution_count": 17,
   "metadata": {},
   "outputs": [],
   "source": [
    "# Set up variables\n",
    "location = [\"HOME\"]\n",
    "folders = {}"
   ]
  },
  {
   "cell_type": "code",
   "execution_count": 18,
   "metadata": {},
   "outputs": [],
   "source": [
    "# Open File\n",
    "file = open(\"sample.txt\", \"r\")\n",
    "input = file.read()\n",
    "\n",
    "# Create a List of the file entries\n",
    "list = input.split(\"\\n\")\n",
    "\n",
    "# Close the file\n",
    "file.close()\n"
   ]
  },
  {
   "cell_type": "markdown",
   "metadata": {},
   "source": []
  },
  {
   "cell_type": "code",
   "execution_count": 11,
   "metadata": {},
   "outputs": [],
   "source": [
    "# I'll use the split function on each line to pull out the component pieces - this will make it easier to test\n",
    "test=list[8].split()"
   ]
  },
  {
   "cell_type": "code",
   "execution_count": 12,
   "metadata": {},
   "outputs": [
    {
     "data": {
      "text/plain": [
       "['dir', 'e']"
      ]
     },
     "execution_count": 12,
     "metadata": {},
     "output_type": "execute_result"
    }
   ],
   "source": [
    "test"
   ]
  },
  {
   "cell_type": "code",
   "execution_count": 16,
   "metadata": {},
   "outputs": [],
   "source": [
    "# How to test if a list item is an integer\n",
    "\n",
    "if (test[0]).isdigit():\n",
    "    print(test[0])\n",
    "\n",
    "# If this is true we will need to append the value to the correct dictionary location(s)"
   ]
  },
  {
   "cell_type": "code",
   "execution_count": 3,
   "metadata": {},
   "outputs": [
    {
     "name": "stdout",
     "output_type": "stream",
     "text": [
      "['$', 'cd', '/']\n",
      "cd\n",
      "['$', 'ls']\n",
      "['dir', 'a']\n",
      "['14848514', 'b.txt']\n",
      "size\n",
      "['8504156', 'c.dat']\n",
      "size\n",
      "['dir', 'd']\n",
      "['$', 'cd', 'a']\n",
      "cd\n",
      "['$', 'ls']\n",
      "['dir', 'e']\n",
      "['29116', 'f']\n",
      "size\n",
      "['2557', 'g']\n",
      "size\n",
      "['62596', 'h.lst']\n",
      "size\n",
      "['$', 'cd', 'e']\n",
      "cd\n",
      "['$', 'ls']\n",
      "['584', 'i']\n",
      "size\n",
      "['$', 'cd', '..']\n",
      "cd\n",
      "['$', 'cd', '..']\n",
      "cd\n",
      "['$', 'cd', 'd']\n",
      "cd\n",
      "['$', 'ls']\n",
      "['4060174', 'j']\n",
      "size\n",
      "['8033020', 'd.log']\n",
      "size\n",
      "['5626152', 'd.ext']\n",
      "size\n",
      "['7214296', 'k']\n",
      "size\n",
      "Done\n"
     ]
    }
   ],
   "source": [
    "# Simple loop\n",
    "\n",
    "for ele in list:\n",
    "    test = ele.split()\n",
    "    print(test)\n",
    "    if (test[0] == \"$\") and (test[1] == \"cd\"):\n",
    "        print(\"cd\")\n",
    "    elif test[0].isdigit():\n",
    "        print(\"size\")\n",
    "\n",
    "print(\"Done\")\n",
    "    "
   ]
  },
  {
   "cell_type": "code",
   "execution_count": 19,
   "metadata": {},
   "outputs": [
    {
     "name": "stdout",
     "output_type": "stream",
     "text": [
      "95437\n"
     ]
    }
   ],
   "source": [
    "# Expanding the loops\n",
    "\n",
    "for ele in list:\n",
    "    test = ele.split()\n",
    "    # print(test)\n",
    "    if (test[0] == \"$\") and (test[1] == \"cd\"):\n",
    "        if test[2] == \"..\":\n",
    "            #move location back one level\n",
    "            location.pop()\n",
    "            # print(location)\n",
    "        elif test[2] != \"/\":\n",
    "            #append location\n",
    "            location.append(test[2])\n",
    "            # print(location)\n",
    "    elif test[0].isdigit():\n",
    "        # Need to add file size not only to current location but all locations in path\n",
    "        # print(\"size\")\n",
    "        path = \"\"\n",
    "        for loc in location:\n",
    "            path = path + \"/\" + loc\n",
    "            if not path in folders:\n",
    "                folders[path] = 0\n",
    "            folders[path] = folders[path] + int(test[0])\n",
    "            \n",
    "total = 0\n",
    "for folder_size in folders.values():\n",
    "    if folder_size <= 100000:\n",
    "        total = total + folder_size\n",
    "\n",
    "print(total)\n",
    "    "
   ]
  },
  {
   "attachments": {},
   "cell_type": "markdown",
   "metadata": {},
   "source": [
    "## Now on to part 2"
   ]
  },
  {
   "cell_type": "code",
   "execution_count": 28,
   "metadata": {},
   "outputs": [
    {
     "name": "stdout",
     "output_type": "stream",
     "text": [
      "24933642\n"
     ]
    }
   ],
   "source": [
    "# Total filesystem space = 70000000\n",
    "# Free space needed = 30000000\n",
    "\n",
    "# Set up variables and Open file\n",
    "location = [\"HOME\"]\n",
    "folders = {}\n",
    "\n",
    "# Open File\n",
    "file = open(\"sample.txt\", \"r\")\n",
    "input = file.read()\n",
    "\n",
    "# Create a List of the file entries\n",
    "list = input.split(\"\\n\")\n",
    "\n",
    "# Close the file\n",
    "file.close()\n",
    "\n",
    "# Same looping process to build dictionary of folder sizes\n",
    "\n",
    "for ele in list:\n",
    "    test = ele.split()\n",
    "    # print(test)\n",
    "    if (test[0] == \"$\") and (test[1] == \"cd\"):\n",
    "        if test[2] == \"..\":\n",
    "            #move location back one level\n",
    "            location.pop()\n",
    "            # print(location)\n",
    "        elif test[2] != \"/\":\n",
    "            #append location\n",
    "            location.append(test[2])\n",
    "            # print(location)\n",
    "    elif test[0].isdigit():\n",
    "        # Need to add file size not only to current location but all locations in path\n",
    "        # print(\"size\")\n",
    "        path = \"\"\n",
    "        for loc in location:\n",
    "            path = path + \"/\" + loc\n",
    "            if not path in folders:\n",
    "                folders[path] = 0\n",
    "            folders[path] = folders[path] + int(test[0])\n",
    "            \n",
    "space_available = 70000000 - folders[\"/HOME\"]\n",
    "space_needed = 30000000 - space_available\n",
    "total = 30000000\n",
    "for folder_size in folders.values():\n",
    "    if (folder_size >= space_needed) and (folder_size < total):\n",
    "        total = folder_size\n",
    "\n",
    "print(total)\n"
   ]
  },
  {
   "cell_type": "code",
   "execution_count": 27,
   "metadata": {},
   "outputs": [
    {
     "data": {
      "text/plain": [
       "8381165"
      ]
     },
     "execution_count": 27,
     "metadata": {},
     "output_type": "execute_result"
    }
   ],
   "source": [
    "space_needed"
   ]
  },
  {
   "cell_type": "code",
   "execution_count": null,
   "metadata": {},
   "outputs": [],
   "source": []
  }
 ],
 "metadata": {
  "kernelspec": {
   "display_name": "Python 3.10.4 64-bit",
   "language": "python",
   "name": "python3"
  },
  "language_info": {
   "codemirror_mode": {
    "name": "ipython",
    "version": 3
   },
   "file_extension": ".py",
   "mimetype": "text/x-python",
   "name": "python",
   "nbconvert_exporter": "python",
   "pygments_lexer": "ipython3",
   "version": "3.10.4"
  },
  "orig_nbformat": 4,
  "vscode": {
   "interpreter": {
    "hash": "52c95d02f1bfe7c59da35d3ff8fa76f7d162251a8bf0068369a0a87df4b3e5e7"
   }
  }
 },
 "nbformat": 4,
 "nbformat_minor": 2
}
