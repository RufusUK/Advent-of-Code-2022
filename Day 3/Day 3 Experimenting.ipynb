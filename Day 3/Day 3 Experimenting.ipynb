{
 "cells": [
  {
   "cell_type": "markdown",
   "metadata": {},
   "source": [
    "# Advent of Code"
   ]
  },
  {
   "cell_type": "markdown",
   "metadata": {},
   "source": [
    "## Day 3"
   ]
  },
  {
   "cell_type": "markdown",
   "metadata": {},
   "source": [
    "### Elves and Backpacks"
   ]
  },
  {
   "cell_type": "code",
   "execution_count": 29,
   "metadata": {},
   "outputs": [],
   "source": [
    "# Will need same code as usual to open input file and read into a Python list\n",
    "# Will need a dictionary of the letter priority values\n",
    "# For each element in the list, will need to split in half and compare to find common element (making sure it is case sensitive)\n",
    "# Will then need to keep a running total of the element priorities"
   ]
  },
  {
   "cell_type": "code",
   "execution_count": 37,
   "metadata": {},
   "outputs": [],
   "source": [
    "# So here's me setting up variables. \n",
    "letters = ['',\"a\",\"b\",\"c\",\"d\",\"e\",\"f\",\"g\",\"h\",\"i\",\"j\",\"k\",\"l\",\"m\",\"n\",\"o\",\"p\",\"q\",\"r\",\"s\",\"t\",\"u\",\"v\",\"w\",\"x\",\"y\",\"z\",\"A\",\"B\",\"C\",\"D\",\"E\",\"F\",\"G\",\"H\",\"I\",\"J\",\"K\",\"L\",\"M\",\"N\",\"O\",\"P\",\"Q\",\"R\",\"S\",\"T\",\"U\",\"V\",\"W\",\"X\",\"Y\",\"Z\"]\n",
    "letters.index(\"G\")\n",
    "first_half = []\n",
    "second_half = []\n",
    "Total = 0"
   ]
  },
  {
   "cell_type": "code",
   "execution_count": 31,
   "metadata": {},
   "outputs": [
    {
     "name": "stdout",
     "output_type": "stream",
     "text": [
      "vJrwpWtwJgWr\n",
      "hcsFMMfFFhFp\n",
      "p\n",
      "16\n",
      "jqHRNqRjqzjGDLGL\n",
      "rsFMfFZSrLrFZsSL\n",
      "L\n",
      "38\n",
      "PmmdzqPrV\n",
      "vPwwTWBwg\n",
      "P\n",
      "42\n",
      "wMqvLMZHhHMvwLH\n",
      "jbvcjnnSBnvTQFn\n",
      "v\n",
      "22\n",
      "ttgJtRGJ\n",
      "QctTZtZT\n",
      "t\n",
      "20\n",
      "CrZsJsPPZsGz\n",
      "wwsLwLmpwMDw\n",
      "s\n",
      "19\n",
      "157\n"
     ]
    }
   ],
   "source": [
    "list = [\"vJrwpWtwJgWrhcsFMMfFFhFp\",\n",
    "\"jqHRNqRjqzjGDLGLrsFMfFZSrLrFZsSL\",\n",
    "\"PmmdzqPrVvPwwTWBwg\",\n",
    "\"wMqvLMZHhHMvwLHjbvcjnnSBnvTQFn\",\n",
    "\"ttgJtRGJQctTZtZT\",\n",
    "\"CrZsJsPPZsGzwwsLwLmpwMDw\"]\n",
    "\n",
    "for ele in list:\n",
    "    half = len(ele) // 2\n",
    "    first_half = ele[:half]\n",
    "    second_half = ele[half:]\n",
    "    print(first_half)\n",
    "    print(second_half)\n",
    "    for i in range(half):\n",
    "        if first_half[i] in second_half:\n",
    "            print(first_half[i])\n",
    "            print(letters.index(first_half[i]))\n",
    "            Total = Total + letters.index(first_half[i])\n",
    "            break\n",
    "\n",
    "print(Total)"
   ]
  },
  {
   "cell_type": "code",
   "execution_count": 32,
   "metadata": {},
   "outputs": [
    {
     "data": {
      "text/plain": [
       "'vJrwpWtwJgWrhcsFMMfFFhFp'"
      ]
     },
     "execution_count": 32,
     "metadata": {},
     "output_type": "execute_result"
    }
   ],
   "source": [
    "list[0]"
   ]
  },
  {
   "cell_type": "code",
   "execution_count": 33,
   "metadata": {},
   "outputs": [
    {
     "data": {
      "text/plain": [
       "6"
      ]
     },
     "execution_count": 33,
     "metadata": {},
     "output_type": "execute_result"
    }
   ],
   "source": [
    "len(list)\n"
   ]
  },
  {
   "cell_type": "code",
   "execution_count": 40,
   "metadata": {},
   "outputs": [
    {
     "name": "stdout",
     "output_type": "stream",
     "text": [
      "70\n"
     ]
    }
   ],
   "source": [
    "list = [\"vJrwpWtwJgWrhcsFMMfFFhFp\",\n",
    "\"jqHRNqRjqzjGDLGLrsFMfFZSrLrFZsSL\",\n",
    "\"PmmdzqPrVvPwwTWBwg\",\n",
    "\"wMqvLMZHhHMvwLHjbvcjnnSBnvTQFn\",\n",
    "\"ttgJtRGJQctTZtZT\",\n",
    "\"CrZsJsPPZsGzwwsLwLmpwMDw\"]\n",
    "\n",
    "Total = 0\n",
    "\n",
    "for i in range(0,len(list),3):\n",
    "    for letter in range(len(list[i])):\n",
    "        if list[i][letter] in list[i+1]:\n",
    "            Total = Total + letters.index(list[i][letter])\n",
    "            break\n",
    "print(Total)"
   ]
  },
  {
   "cell_type": "code",
   "execution_count": 38,
   "metadata": {},
   "outputs": [
    {
     "name": "stdout",
     "output_type": "stream",
     "text": [
      "vJrwpWtwJgWr\n",
      "hcsFMMfFFhFp\n",
      "p\n",
      "16\n",
      "jqHRNqRjqzjGDLGL\n",
      "rsFMfFZSrLrFZsSL\n",
      "L\n",
      "38\n",
      "PmmdzqPrV\n",
      "vPwwTWBwg\n",
      "P\n",
      "42\n",
      "wMqvLMZHhHMvwLH\n",
      "jbvcjnnSBnvTQFn\n",
      "v\n",
      "22\n",
      "ttgJtRGJ\n",
      "QctTZtZT\n",
      "t\n",
      "20\n",
      "CrZsJsPPZsGz\n",
      "wwsLwLmpwMDw\n",
      "s\n",
      "19\n",
      "157\n"
     ]
    }
   ],
   "source": [
    "list = [\"vJrwpWtwJgWrhcsFMMfFFhFp\",\n",
    "\"jqHRNqRjqzjGDLGLrsFMfFZSrLrFZsSL\",\n",
    "\"PmmdzqPrVvPwwTWBwg\",\n",
    "\"wMqvLMZHhHMvwLHjbvcjnnSBnvTQFn\",\n",
    "\"ttgJtRGJQctTZtZT\",\n",
    "\"CrZsJsPPZsGzwwsLwLmpwMDw\"]\n",
    "\n",
    "for ele in list:\n",
    "    half = len(ele) // 2\n",
    "    first_half = ele[:half]\n",
    "    second_half = ele[half:]\n",
    "    print(first_half)\n",
    "    print(second_half)\n",
    "    for i in range(half):\n",
    "        if first_half[i] in second_half:\n",
    "            print(first_half[i])\n",
    "            print(letters.index(first_half[i]))\n",
    "            Total = Total + letters.index(first_half[i])\n",
    "            break\n",
    "\n",
    "print(Total)"
   ]
  }
 ],
 "metadata": {
  "kernelspec": {
   "display_name": "Python 3.10.4 64-bit",
   "language": "python",
   "name": "python3"
  },
  "language_info": {
   "codemirror_mode": {
    "name": "ipython",
    "version": 3
   },
   "file_extension": ".py",
   "mimetype": "text/x-python",
   "name": "python",
   "nbconvert_exporter": "python",
   "pygments_lexer": "ipython3",
   "version": "3.10.4"
  },
  "orig_nbformat": 4,
  "vscode": {
   "interpreter": {
    "hash": "52c95d02f1bfe7c59da35d3ff8fa76f7d162251a8bf0068369a0a87df4b3e5e7"
   }
  }
 },
 "nbformat": 4,
 "nbformat_minor": 2
}
