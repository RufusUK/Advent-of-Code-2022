{
 "cells": [
  {
   "cell_type": "markdown",
   "id": "aab2e33c",
   "metadata": {},
   "source": [
    "# Advent of Code 2022"
   ]
  },
  {
   "cell_type": "markdown",
   "id": "7d5da5b6",
   "metadata": {},
   "source": [
    "## Day 1"
   ]
  },
  {
   "cell_type": "markdown",
   "id": "f87dd014",
   "metadata": {},
   "source": [
    "### Elves and Calories"
   ]
  },
  {
   "cell_type": "code",
   "execution_count": 3,
   "id": "c1c582d4",
   "metadata": {},
   "outputs": [
    {
     "name": "stdout",
     "output_type": "stream",
     "text": [
      "\n",
      "Elf number  21  is carrying  68802  calories\n"
     ]
    }
   ],
   "source": [
    "file = open(\"input.txt\", \"r\")\n",
    "calories = []\n",
    "twocal = []\n",
    "threecal = []\n",
    "x = 0\n",
    "\n",
    "# reading the file\n",
    "input = file.read()\n",
    "  \n",
    "# replacing end splitting the text \n",
    "# when newline ('\\n') is seen.\n",
    "list = input.split(\"\\n\")\n",
    "# print(list)\n",
    "file.close()\n",
    "\n",
    "for ele in list:\n",
    "    if ele == '':\n",
    "        calories.append(x)\n",
    "        x = 0\n",
    "    else:\n",
    "        x = x + int(ele)\n",
    "calories.append(x)\n",
    "maxcal = max(calories)\n",
    "maxelf = calories.index(maxcal)\n",
    "print(\"\\nElf number \", maxelf+1, \" is carrying \", maxcal, \" calories\")"
   ]
  },
  {
   "cell_type": "code",
   "execution_count": 2,
   "id": "62cbf5ce",
   "metadata": {},
   "outputs": [
    {
     "name": "stdout",
     "output_type": "stream",
     "text": [
      "205370\n"
     ]
    }
   ],
   "source": [
    "twolist = calories\n",
    "del twolist[maxelf]\n",
    "twocal = max(twolist)\n",
    "threelist = twolist\n",
    "threelist.remove(twocal)\n",
    "threecal = max(threelist)\n",
    "total = maxcal + twocal + threecal\n",
    "print(total)"
   ]
  },
  {
   "cell_type": "code",
   "execution_count": 4,
   "id": "0228b3a0",
   "metadata": {},
   "outputs": [
    {
     "name": "stdout",
     "output_type": "stream",
     "text": [
      "205370\n"
     ]
    }
   ],
   "source": [
    "calories.sort(reverse=True)\n",
    "print(sum(calories[0:3]))"
   ]
  },
  {
   "cell_type": "code",
   "execution_count": null,
   "id": "b2719ba4",
   "metadata": {},
   "outputs": [],
   "source": []
  }
 ],
 "metadata": {
  "kernelspec": {
   "display_name": "Python 3.10.4 64-bit",
   "language": "python",
   "name": "python3"
  },
  "language_info": {
   "codemirror_mode": {
    "name": "ipython",
    "version": 3
   },
   "file_extension": ".py",
   "mimetype": "text/x-python",
   "name": "python",
   "nbconvert_exporter": "python",
   "pygments_lexer": "ipython3",
   "version": "3.10.4"
  },
  "vscode": {
   "interpreter": {
    "hash": "52c95d02f1bfe7c59da35d3ff8fa76f7d162251a8bf0068369a0a87df4b3e5e7"
   }
  }
 },
 "nbformat": 4,
 "nbformat_minor": 5
}
