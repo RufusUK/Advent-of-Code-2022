{
 "cells": [
  {
   "cell_type": "markdown",
   "metadata": {},
   "source": [
    "# Advent of Code"
   ]
  },
  {
   "cell_type": "markdown",
   "metadata": {},
   "source": [
    "## Day 4"
   ]
  },
  {
   "cell_type": "code",
   "execution_count": 1,
   "metadata": {},
   "outputs": [],
   "source": [
    "List = [\"2-4,6-8\",\"2-3,4-5\",\"5-7,7-9\",\"2-8\",\"3-7\",\"6-6\",\"4-6\",\"2-6\",\"4-8\"]"
   ]
  },
  {
   "cell_type": "code",
   "execution_count": 7,
   "metadata": {},
   "outputs": [],
   "source": [
    "# Open File\n",
    "file = open(\"input.txt\", \"r\")\n",
    "input = file.read()\n",
    "\n",
    "# Create a List of the file entries\n",
    "list = input.split(\"\\n\")\n",
    "\n",
    "# Close the file\n",
    "file.close()\n"
   ]
  },
  {
   "cell_type": "code",
   "execution_count": 3,
   "metadata": {},
   "outputs": [
    {
     "data": {
      "text/plain": [
       "['2-4,6-8', '2-3,4-5', '5-7,7-9', '2-8,3-7', '6-6,4-6', '2-6,4-8']"
      ]
     },
     "execution_count": 3,
     "metadata": {},
     "output_type": "execute_result"
    }
   ],
   "source": [
    "list"
   ]
  },
  {
   "cell_type": "code",
   "execution_count": 28,
   "metadata": {},
   "outputs": [],
   "source": [
    "# Testing for full overlap\n",
    "import re\n",
    "count = 0\n",
    "for ele in list:\n",
    "    values = re.split(r\"[,-]\",ele)\n",
    "    if (int(values[0]) >= int(values[2]) and int(values[1]) <= int(values[3])) or (int(values[2]) >= int(values[0]) and int(values[3]) <= int(values[1])):\n",
    "        count = count + 1\n",
    "\n",
    "\n"
   ]
  },
  {
   "cell_type": "code",
   "execution_count": 29,
   "metadata": {},
   "outputs": [
    {
     "data": {
      "text/plain": [
       "651"
      ]
     },
     "execution_count": 29,
     "metadata": {},
     "output_type": "execute_result"
    }
   ],
   "source": [
    "count"
   ]
  },
  {
   "cell_type": "code",
   "execution_count": 8,
   "metadata": {},
   "outputs": [],
   "source": [
    "# Testing for partial overlap\n",
    "import re\n",
    "count = 0\n",
    "for ele in list:\n",
    "    values = re.split(r\"[,-]\",ele)\n",
    "    if (int(values[0]) >= int(values[2]) and int(values[0]) <= int(values[3])) or (int(values[2]) >= int(values[0]) and int(values[2]) <= int(values[1])) or (int(values[1]) >= int(values[2]) and int(values[1]) <= int(values[3])) or (int(values[3]) >= int(values[0]) and int(values[3]) <= int(values[1])) :\n",
    "        count = count + 1\n"
   ]
  },
  {
   "cell_type": "code",
   "execution_count": 9,
   "metadata": {},
   "outputs": [
    {
     "data": {
      "text/plain": [
       "956"
      ]
     },
     "execution_count": 9,
     "metadata": {},
     "output_type": "execute_result"
    }
   ],
   "source": [
    "count"
   ]
  },
  {
   "cell_type": "code",
   "execution_count": null,
   "metadata": {},
   "outputs": [],
   "source": []
  }
 ],
 "metadata": {
  "kernelspec": {
   "display_name": "Python 3.10.4 64-bit",
   "language": "python",
   "name": "python3"
  },
  "language_info": {
   "codemirror_mode": {
    "name": "ipython",
    "version": 3
   },
   "file_extension": ".py",
   "mimetype": "text/x-python",
   "name": "python",
   "nbconvert_exporter": "python",
   "pygments_lexer": "ipython3",
   "version": "3.10.4"
  },
  "orig_nbformat": 4,
  "vscode": {
   "interpreter": {
    "hash": "52c95d02f1bfe7c59da35d3ff8fa76f7d162251a8bf0068369a0a87df4b3e5e7"
   }
  }
 },
 "nbformat": 4,
 "nbformat_minor": 2
}
