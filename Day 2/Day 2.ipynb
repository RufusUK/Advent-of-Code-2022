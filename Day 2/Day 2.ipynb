{
 "cells": [
  {
   "cell_type": "markdown",
   "metadata": {},
   "source": [
    "# Advent of Code 2022"
   ]
  },
  {
   "cell_type": "markdown",
   "metadata": {},
   "source": [
    "## Day 2"
   ]
  },
  {
   "cell_type": "markdown",
   "metadata": {},
   "source": [
    "### Elves and Rock, Paper, Scissors"
   ]
  },
  {
   "cell_type": "code",
   "execution_count": 1,
   "metadata": {},
   "outputs": [
    {
     "ename": "NameError",
     "evalue": "name 'AX' is not defined",
     "output_type": "error",
     "traceback": [
      "\u001b[1;31m---------------------------------------------------------------------------\u001b[0m",
      "\u001b[1;31mNameError\u001b[0m                                 Traceback (most recent call last)",
      "\u001b[1;32mUntitled-1.ipynb Cell 4\u001b[0m in \u001b[0;36m<cell line: 1>\u001b[1;34m()\u001b[0m\n\u001b[1;32m----> <a href='vscode-notebook-cell:Untitled-1.ipynb?jupyter-notebook#W5sdW50aXRsZWQ%3D?line=0'>1</a>\u001b[0m scoring \u001b[39m=\u001b[39m {AX:\u001b[39m4\u001b[39m,AY:\u001b[39m8\u001b[39m,AZ:\u001b[39m3\u001b[39m,BX:\u001b[39m1\u001b[39m,BY:\u001b[39m5\u001b[39m,BZ:\u001b[39m9\u001b[39m,CX:\u001b[39m7\u001b[39m,CY:\u001b[39m3\u001b[39m,CZ:\u001b[39m6\u001b[39m}\n",
      "\u001b[1;31mNameError\u001b[0m: name 'AX' is not defined"
     ]
    }
   ],
   "source": [
    "scoring = {\"AX\":4,\"AY\":8,\"AZ\":3,\"BX\":1,BY:5,BZ:9,CX:7,CY:3,CZ:6}\n",
    "\n"
   ]
  },
  {
   "cell_type": "code",
   "execution_count": 5,
   "metadata": {},
   "outputs": [],
   "source": [
    "scoring = {\n",
    "    \"AX\" : 4,\n",
    "    \"AY\" : 8,\n",
    "    \"AZ\" : 3,\n",
    "    \"BX\" : 1,\n",
    "    \"BY\" : 5,\n",
    "    \"BZ\" : 9,\n",
    "    \"CX\" : 7,\n",
    "    \"CY\" : 3,\n",
    "    \"CZ\" : 6\n",
    "}"
   ]
  },
  {
   "cell_type": "code",
   "execution_count": 6,
   "metadata": {},
   "outputs": [
    {
     "data": {
      "text/plain": [
       "{'AX': 4,\n",
       " 'AY': 8,\n",
       " 'AZ': 3,\n",
       " 'BX': 1,\n",
       " 'BY': 5,\n",
       " 'BZ': 9,\n",
       " 'CX': 7,\n",
       " 'CY': 3,\n",
       " 'CZ': 6}"
      ]
     },
     "execution_count": 6,
     "metadata": {},
     "output_type": "execute_result"
    }
   ],
   "source": [
    "scoring"
   ]
  },
  {
   "cell_type": "code",
   "execution_count": 9,
   "metadata": {},
   "outputs": [
    {
     "name": "stdout",
     "output_type": "stream",
     "text": [
      "3\n"
     ]
    }
   ],
   "source": [
    "print(scoring[\"AZ\"])"
   ]
  },
  {
   "cell_type": "code",
   "execution_count": null,
   "metadata": {},
   "outputs": [],
   "source": []
  }
 ],
 "metadata": {
  "kernelspec": {
   "display_name": "Python 3.10.4 64-bit",
   "language": "python",
   "name": "python3"
  },
  "language_info": {
   "codemirror_mode": {
    "name": "ipython",
    "version": 3
   },
   "file_extension": ".py",
   "mimetype": "text/x-python",
   "name": "python",
   "nbconvert_exporter": "python",
   "pygments_lexer": "ipython3",
   "version": "3.10.4"
  },
  "orig_nbformat": 4,
  "vscode": {
   "interpreter": {
    "hash": "52c95d02f1bfe7c59da35d3ff8fa76f7d162251a8bf0068369a0a87df4b3e5e7"
   }
  }
 },
 "nbformat": 4,
 "nbformat_minor": 2
}
