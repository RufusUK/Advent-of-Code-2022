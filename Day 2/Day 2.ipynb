{
 "cells": [
  {
   "cell_type": "markdown",
   "metadata": {},
   "source": [
    "# Advent of Code 2022"
   ]
  },
  {
   "cell_type": "markdown",
   "metadata": {},
   "source": [
    "## Day 2"
   ]
  },
  {
   "cell_type": "markdown",
   "metadata": {},
   "source": [
    "### Elves and Rock, Paper, Scissors"
   ]
  },
  {
   "cell_type": "code",
   "execution_count": 6,
   "metadata": {},
   "outputs": [],
   "source": [
    "scoring = {\n",
    "    \"A X\" : 4,\n",
    "    \"A Y\" : 8,\n",
    "    \"A Z\" : 3,\n",
    "    \"B X\" : 1,\n",
    "    \"B Y\" : 5,\n",
    "    \"B Z\" : 9,\n",
    "    \"C X\" : 7,\n",
    "    \"C Y\" : 2,\n",
    "    \"C Z\" : 6\n",
    "}"
   ]
  },
  {
   "cell_type": "code",
   "execution_count": 7,
   "metadata": {},
   "outputs": [
    {
     "name": "stdout",
     "output_type": "stream",
     "text": [
      "3\n"
     ]
    }
   ],
   "source": [
    "print(scoring[\"A Z\"])"
   ]
  },
  {
   "cell_type": "code",
   "execution_count": 15,
   "metadata": {},
   "outputs": [
    {
     "name": "stdout",
     "output_type": "stream",
     "text": [
      "11255\n"
     ]
    }
   ],
   "source": [
    "# Initialise Variables\n",
    "score_total = 0\n",
    "\n",
    "# Create reference dictionary for lookups\n",
    "scoring = {\n",
    "    \"A X\" : 4,\n",
    "    \"A Y\" : 8,\n",
    "    \"A Z\" : 3,\n",
    "    \"B X\" : 1,\n",
    "    \"B Y\" : 5,\n",
    "    \"B Z\" : 9,\n",
    "    \"C X\" : 7,\n",
    "    \"C Y\" : 2,\n",
    "    \"C Z\" : 6\n",
    "}\n",
    "\n",
    "# Open File\n",
    "file = open(\"c:/Users/Ruth/OneDrive/Code/Advent of Code 2022/Day 2/input.txt\", \"r\")\n",
    "input = file.read()\n",
    "\n",
    "# Create a List of the file entries\n",
    "list = input.split(\"\\n\")\n",
    "\n",
    "# Close the file\n",
    "file.close()\n",
    "\n",
    "#Loop through the list, matchiing to our score dictionary and incrementing the score variable\n",
    "for ele in list:\n",
    "    try:\n",
    "        score_total = score_total + scoring[ele]\n",
    "    except KeyError:\n",
    "        pass\n",
    "\n",
    "print(score_total)\n"
   ]
  },
  {
   "cell_type": "code",
   "execution_count": 12,
   "metadata": {},
   "outputs": [
    {
     "name": "stdout",
     "output_type": "stream",
     "text": [
      "['C Y', 'A Z', 'B Y', 'A Z', 'A X', 'A Z', 'B Y', 'A Z', 'B Y', 'C Z', 'B Y', 'C Z', 'A Z', 'C Y', 'B Y', 'B Y', 'B Y', 'C Y', 'B Y', 'B Y', 'A X', 'B Y', 'A Y', 'B Y', 'B Y', 'B X', 'A Y', 'C Z', 'C X', 'A Z', 'B Y', 'A X', 'C Y', 'C X', 'C Z', 'C X', 'B Y', 'B Y', 'B X', 'A Z', 'A X', 'C Y', 'A Z', 'C Z', 'B X', 'C X', 'B Y', 'C X', 'C Z', 'C Y', 'C Z', 'A Y', 'A Z', 'C Z', 'A Z', 'A Z', 'A Z', 'A Z', 'B Y', 'A Z', 'B Y', 'B Y', 'B Y', 'B X', 'A Z', 'B X', 'C Z', 'C Z', 'A Z', 'A Z', 'B Y', 'C Y', 'A X', 'C Y', 'C Y', 'B Z', 'B Y', 'C X', 'A X', 'A Z', 'C Z', 'C X', 'B Y', 'A X', 'C X', 'B Y', 'C X', 'B Y', 'C X', 'B Y', 'C Y', 'A Z', 'C Z', 'B X', 'C Y', 'B Y', 'A Z', 'B X', 'C Z', 'C Z', 'B Y', 'C Z', 'C X', 'A X', 'A Z', 'A Z', 'A Y', 'C Z', 'C Y', 'A X', 'C Z', 'C Y', 'A Z', 'C X', 'B X', 'A Z', 'B Y', 'A Z', 'B X', 'C X', 'A Z', 'C Y', 'C Z', 'B Y', 'C Y', 'C X', 'A Z', 'C X', 'C X', 'B Y', 'B Z', 'A X', 'B X', 'C Y', 'A Z', 'B Y', 'C Z', 'B Y', 'C Z', 'B X', 'B Y', 'B X', 'B Y', 'B Y', 'B Y', 'C Y', 'A Z', 'A Y', 'A Z', 'C Z', 'B Y', 'C Z', 'B Y', 'C Y', 'A Z', 'B X', 'B Y', 'C Z', 'A X', 'A Y', 'C X', 'B X', 'A Z', 'C X', 'A Y', 'A X', 'A Z', 'A Z', 'A Z', 'B Y', 'B Y', 'B Z', 'B Y', 'C Y', 'B Y', 'A Z', 'C X', 'A Z', 'A X', 'B Y', 'A X', 'C X', 'C X', 'A X', 'B X', 'C X', 'C Z', 'B Y', 'B Y', 'C Y', 'B X', 'C X', 'A Z', 'B Y', 'B Y', 'C Z', 'A Z', 'B Y', 'B X', 'C Z', 'A Y', 'B Y', 'A Y', 'C Y', 'C X', 'A X', 'B Y', 'C X', 'B Z', 'B Y', 'B Y', 'A Z', 'C Y', 'B Y', 'B Y', 'A Y', 'B Z', 'B Z', 'A Y', 'B Y', 'C Y', 'A Z', 'B Y', 'C Z', 'A Z', 'B Y', 'A Z', 'C Y', 'A X', 'B Z', 'C X', 'C Y', 'B Y', 'C Y', 'A Z', 'A Z', 'B Y', 'B Y', 'C Y', 'A Y', 'A Y', 'C Y', 'A Z', 'C Y', 'B X', 'C X', 'A X', 'A Y', 'A Z', 'A Y', 'A Z', 'B Y', 'B Y', 'B Y', 'A Z', 'C Y', 'C Z', 'A Y', 'C Y', 'A Z', 'A Z', 'C Z', 'B Y', 'A Z', 'C Z', 'B Y', 'C Y', 'C Z', 'C X', 'B Y', 'A Z', 'B Y', 'B Y', 'A Z', 'C X', 'B Y', 'A Z', 'B Y', 'C Y', 'A Y', 'A Z', 'C X', 'A Z', 'A Y', 'C Y', 'A Z', 'C Y', 'C Y', 'B X', 'A Z', 'B Y', 'A Z', 'C Y', 'B Y', 'B Y', 'B Y', 'A Z', 'C Z', 'C Y', 'B Y', 'C Z', 'C Y', 'C Y', 'C Y', 'A X', 'B X', 'C X', 'B Y', 'B Y', 'B X', 'B Y', 'B Y', 'C Z', 'B Y', 'B Z', 'C X', 'B Y', 'C Y', 'C Y', 'B X', 'A Z', 'B Y', 'B Y', 'A Z', 'B Y', 'C Z', 'B Y', 'B Y', 'A Z', 'C Z', 'C Z', 'A Z', 'C Y', 'B Y', 'B Y', 'C Y', 'B Z', 'A Y', 'C X', 'A Z', 'B X', 'C Y', 'A Z', 'C Z', 'B Y', 'B X', 'B Y', 'B Y', 'B Y', 'C Z', 'A Z', 'B Y', 'B X', 'B Y', 'B X', 'B X', 'C Z', 'A Z', 'B Y', 'C Z', 'A Z', 'C Y', 'C Y', 'A Z', 'A Z', 'A Y', 'B Y', 'C X', 'A Z', 'B Y', 'A Z', 'A Z', 'A Z', 'A Y', 'A Z', 'A Z', 'A Y', 'A X', 'A Z', 'C Z', 'C Y', 'C Y', 'C X', 'A Z', 'A Y', 'B Y', 'A Z', 'A Z', 'B Y', 'B X', 'B Y', 'A Z', 'A X', 'B Y', 'C Y', 'C Y', 'A Z', 'C Y', 'C X', 'B Y', 'A X', 'A X', 'C Y', 'A X', 'C Z', 'C X', 'C Y', 'B Y', 'A Z', 'C Y', 'A Z', 'A Z', 'C Z', 'B Y', 'A Z', 'A Y', 'A X', 'C X', 'C X', 'B Y', 'C X', 'B Y', 'C Z', 'A Y', 'B Y', 'C Y', 'C X', 'B Y', 'C Y', 'A Z', 'B Y', 'A X', 'C Y', 'A Y', 'A Z', 'A Z', 'B Y', 'A Z', 'A Z', 'C X', 'B Y', 'B Y', 'A Z', 'B Y', 'C Y', 'C Z', 'A Z', 'C Z', 'C Z', 'B Y', 'A Z', 'B Y', 'A Z', 'B Z', 'C Z', 'A Y', 'B Y', 'B Y', 'B Y', 'C Y', 'A X', 'A X', 'B X', 'B Y', 'C Z', 'C Y', 'C Y', 'C Y', 'A X', 'B Y', 'B Y', 'C Z', 'C X', 'B Y', 'A X', 'A Z', 'C Y', 'C Y', 'A Z', 'A Z', 'C Z', 'A Z', 'C Y', 'B Y', 'A X', 'B Y', 'C Z', 'A Z', 'A Y', 'B Y', 'B Z', 'C Y', 'C Y', 'C X', 'B Y', 'C Y', 'C Y', 'C Y', 'C Z', 'B Y', 'A Y', 'A Y', 'A Z', 'B Y', 'C X', 'B X', 'B X', 'B X', 'A Z', 'B Y', 'C Z', 'C Z', 'C X', 'B Y', 'B Y', 'B Y', 'A X', 'A Z', 'A Z', 'B Y', 'C Y', 'B Y', 'C Y', 'B X', 'A Z', 'B Y', 'B Y', 'B Y', 'B Y', 'B Y', 'B Y', 'C X', 'A Y', 'B Y', 'B Y', 'C Y', 'A Z', 'B Y', 'C X', 'B X', 'C Z', 'C X', 'A X', 'C X', 'B Y', 'B Y', 'C X', 'B Y', 'C Y', 'A Z', 'B Y', 'A X', 'C Y', 'A X', 'C Y', 'C Y', 'B Y', 'A Y', 'A Z', 'B Y', 'C Z', 'C Z', 'B Y', 'C Z', 'A Z', 'A Y', 'A Z', 'C Y', 'C Z', 'B Y', 'C Z', 'A Z', 'C X', 'A Y', 'C Z', 'A Z', 'B Y', 'C Z', 'C Y', 'B Y', 'A Z', 'B X', 'A Z', 'B X', 'C Z', 'B Y', 'A X', 'C Y', 'A Z', 'C Y', 'B Y', 'B Y', 'B Y', 'C Y', 'B Y', 'B Y', 'C X', 'A Z', 'A Z', 'B Y', 'C Y', 'C Z', 'C X', 'A Z', 'C Y', 'B X', 'B Y', 'A X', 'B Y', 'A Z', 'A Z', 'B Y', 'B X', 'C Z', 'C X', 'B Z', 'A Y', 'B Y', 'B Z', 'C Y', 'A Z', 'B X', 'C Y', 'B Y', 'C Z', 'B Z', 'A Y', 'A X', 'C X', 'B Y', 'C Y', 'A X', 'A Z', 'B Y', 'A Y', 'B Z', 'C X', 'B Y', 'C Y', 'C X', 'A Z', 'A Y', 'A Z', 'B Y', 'C Z', 'B X', 'A X', 'B Y', 'B Z', 'A Z', 'C Y', 'C X', 'A Z', 'C Y', 'C Z', 'B X', 'A Z', 'B X', 'A Z', 'A Z', 'C Y', 'B Z', 'C Y', 'C Y', 'B Y', 'C X', 'B X', 'A X', 'A Z', 'C Z', 'B X', 'B X', 'B X', 'B Z', 'B Y', 'B Z', 'C Y', 'B Y', 'C Y', 'C Z', 'A Z', 'A X', 'B Y', 'B Y', 'B Y', 'B Y', 'C X', 'B Y', 'B Y', 'A X', 'C X', 'B Y', 'C Z', 'C Y', 'A Z', 'A Y', 'B Y', 'C Y', 'B Y', 'C X', 'C X', 'B Y', 'B Y', 'B Y', 'C Y', 'A Z', 'A Y', 'C X', 'A Z', 'A Z', 'B Y', 'C X', 'C Y', 'B Y', 'B Y', 'C Y', 'C X', 'B X', 'C Y', 'B X', 'A Z', 'B Y', 'C X', 'B X', 'C Y', 'C Y', 'A Z', 'B Y', 'A Z', 'C Y', 'A Z', 'A Z', 'C Z', 'C X', 'C Y', 'A Z', 'C Z', 'A Z', 'B Y', 'A X', 'B Y', 'B Y', 'A Z', 'C X', 'B Z', 'B Y', 'C X', 'A Y', 'B Y', 'A Z', 'C Z', 'A Z', 'A Z', 'A Z', 'B Y', 'B Y', 'B X', 'B Y', 'B Y', 'B Y', 'C Z', 'B Y', 'A Z', 'C X', 'C Z', 'A Z', 'C Z', 'C Y', 'B Y', 'C Y', 'B X', 'C Y', 'B Y', 'A Z', 'B Y', 'C X', 'B Y', 'A Z', 'C Y', 'B Y', 'C Y', 'C Z', 'A X', 'B X', 'C X', 'B X', 'A X', 'B Y', 'A X', 'C Z', 'B Y', 'C Z', 'B Y', 'B Y', 'C Z', 'B Y', 'A Y', 'C Z', 'B Z', 'A Z', 'C X', 'A Z', 'A Z', 'B Y', 'B Y', 'C Y', 'C Z', 'C X', 'A Y', 'B Y', 'B Y', 'A X', 'A Y', 'B X', 'C Z', 'C Z', 'B Y', 'C Y', 'B Y', 'C X', 'B Z', 'A Z', 'A Z', 'B Y', 'A Y', 'A Y', 'A X', 'A Z', 'B Y', 'A X', 'B Z', 'C Z', 'B X', 'C Z', 'B X', 'B Y', 'A Y', 'B X', 'A Z', 'A Z', 'C Z', 'A X', 'C Z', 'B Y', 'A Y', 'C Z', 'C X', 'B Y', 'B Y', 'A X', 'C Y', 'C X', 'C Y', 'C X', 'A X', 'B Y', 'B X', 'B Y', 'C Y', 'C Y', 'C X', 'A Y', 'A Z', 'C Y', 'C Y', 'B Y', 'B X', 'B Y', 'B X', 'A Z', 'A Z', 'C Z', 'B Y', 'B Y', 'B Y', 'B X', 'C Z', 'A Y', 'A Z', 'B Y', 'B Y', 'B Y', 'B X', 'A X', 'B Y', 'C Z', 'A Z', 'A Z', 'C Y', 'C Y', 'B Y', 'B Y', 'A Z', 'B Y', 'A X', 'A Z', 'C Z', 'A Z', 'B Y', 'C X', 'B Y', 'A X', 'B Y', 'B X', 'B Y', 'B X', 'C X', 'A Z', 'C Z', 'C Z', 'B X', 'A Z', 'B Y', 'A Z', 'B X', 'B Y', 'A Z', 'C Y', 'B Y', 'A Z', 'A X', 'B Y', 'A Z', 'B Y', 'B Y', 'C Y', 'A Z', 'B Y', 'B Y', 'C Y', 'A Z', 'C Z', 'A Z', 'C Z', 'B Y', 'A Z', 'B Y', 'A Z', 'C Y', 'B Y', 'A X', 'A Z', 'B Y', 'B Y', 'C Z', 'C Z', 'C Z', 'B Y', 'C Y', 'A X', 'C X', 'A X', 'C Y', 'A Y', 'B X', 'B Y', 'C Z', 'B Y', 'B Y', 'B X', 'C Z', 'B Y', 'C X', 'A Z', 'C X', 'B Y', 'A X', 'C X', 'C Y', 'A Z', 'A X', 'C Z', 'C Z', 'B Y', 'C Y', 'A Y', 'A Z', 'A Y', 'C X', 'C X', 'B Y', 'C Y', 'B Y', 'A Z', 'C X', 'B Y', 'C Y', 'A X', 'A Z', 'C Y', 'B Y', 'B Y', 'A Y', 'C X', 'B Y', 'C Y', 'B Y', 'B X', 'A Z', 'C Y', 'C Y', 'A X', 'C X', 'A Z', 'C X', 'B Y', 'A X', 'C Z', 'B Y', 'C X', 'B Y', 'A Z', 'A Y', 'B Y', 'B X', 'B Y', 'C Y', 'C Z', 'B Y', 'A Z', 'A X', 'B X', 'C X', 'C Z', 'B Y', 'B Y', 'C X', 'C Z', 'A Z', 'C Y', 'C Z', 'B Y', 'A Z', 'B Y', 'B Y', 'C Z', 'C Z', 'B Y', 'C Y', 'B Y', 'A Z', 'B X', 'B Y', 'B Y', 'C X', 'A Z', 'A Z', 'B Y', 'C Y', 'B Y', 'A Z', 'A Y', 'A X', 'C Z', 'C Y', 'C Z', 'C Z', 'C Z', 'A Z', 'B Y', 'C Z', 'A Z', 'C Y', 'A Z', 'B Y', 'B Y', 'B Y', 'A Z', 'B Y', 'B X', 'B Y', 'B Y', 'B Y', 'B Y', 'B Y', 'B Y', 'A X', 'C Z', 'B X', 'B Y', 'C X', 'A Z', 'B Y', 'B X', 'C Y', 'B Y', 'C Y', 'B Y', 'A Z', 'B Y', 'C Y', 'A X', 'B Y', 'C X', 'B X', 'B Y', 'C Z', 'B X', 'C X', 'C Y', 'C X', 'C Y', 'C X', 'A Z', 'C X', 'B Y', 'A Z', 'B X', 'A Z', 'B X', 'B X', 'A Z', 'C Z', 'A Z', 'B X', 'B Z', 'C X', 'C Y', 'A X', 'A Z', 'B X', 'C Y', 'A Z', 'C Z', 'B Y', 'B Y', 'C Y', 'B Z', 'B Y', 'B Y', 'C Y', 'C Z', 'B Y', 'A Z', 'A X', 'B X', 'B X', 'C X', 'A Z', 'C Y', 'B Y', 'B Y', 'A Z', 'B Y', 'A Z', 'A Z', 'B Y', 'B Y', 'B Y', 'B Y', 'C X', 'B Y', 'B X', 'C Z', 'B X', 'C X', 'B X', 'B Y', 'B Y', 'B Y', 'A Z', 'B Y', 'A X', 'A Y', 'C X', 'B X', 'B Y', 'B Y', 'C Z', 'A Y', 'C Z', 'C Y', 'A Z', 'C Z', 'C Z', 'B X', 'B Y', 'A Z', 'B Y', 'C X', 'C Y', 'C Y', 'B X', 'B Y', 'B Z', 'A Y', 'A Z', 'C X', 'A X', 'B X', 'C X', 'B Y', 'B Y', 'B Y', 'B X', 'C X', 'B Y', 'A Z', 'A Z', 'A Y', 'B X', 'C Y', 'C Z', 'A Z', 'A Z', 'B X', 'A Z', 'C Y', 'B Y', 'A X', 'B X', 'A Z', 'B Y', 'B Y', 'B Y', 'B Y', 'C Z', 'C Z', 'A Y', 'B Y', 'C Z', 'C Z', 'B Y', 'B X', 'A Z', 'C Y', 'C X', 'A Z', 'A Z', 'C Y', 'C X', 'C Y', 'A Y', 'B Y', 'C X', 'B Y', 'B X', 'C Z', 'C X', 'C Y', 'B Y', 'B Y', 'A Z', 'B Y', 'C Z', 'C Y', 'B X', 'B Y', 'A Z', 'A Z', 'B X', 'B Y', 'A X', 'A Z', 'B Y', 'B Y', 'B Y', 'B Y', 'B Y', 'C Y', 'B Y', 'B Y', 'C Y', 'B Y', 'B Y', 'C Z', 'B Y', 'A X', 'C Y', 'B Y', 'A Z', 'B Y', 'C Z', 'C Z', 'C Y', 'A Y', 'B Y', 'A Z', 'A X', 'C Y', 'C Z', 'C Y', 'C Z', 'C Z', 'C Y', 'B X', 'B Y', 'B Y', 'C Z', 'C X', 'A Y', 'C Y', 'B Y', 'B Y', 'A Y', 'A Y', 'C X', 'C Y', 'A Z', 'A Z', 'A X', 'B Z', 'B X', 'A X', 'A Y', 'A Z', 'B Y', 'C Y', 'B X', 'B Y', 'B Y', 'C Z', 'C X', 'B Y', 'B Y', 'B Y', 'B Y', 'C Y', 'B Y', 'B X', 'C X', 'C Y', 'B Y', 'A Z', 'A Y', 'A Z', 'C Z', 'C Y', 'A Z', 'A Z', 'B Y', 'B Y', 'C Y', 'A X', 'B Y', 'A Z', 'B Y', 'A Z', 'B Y', 'B X', 'C X', 'C Y', 'A Z', 'A Y', 'B Y', 'C X', 'A Z', 'B Y', 'A Z', 'C Y', 'B X', 'B Y', 'B X', 'C Z', 'C X', 'B Y', 'A Z', 'B Y', 'B X', 'A X', 'C Z', 'C X', 'A Z', 'A Y', 'A X', 'A Z', 'A Z', 'A Z', 'C Y', 'A Z', 'B Y', 'A Z', 'A Z', 'C Z', 'B X', 'B Y', 'B Y', 'B Y', 'B Y', 'A Z', 'B Y', 'C Y', 'A Z', 'A Y', 'B Y', 'B Y', 'C Y', 'C Y', 'A Z', 'C Z', 'A Z', 'B Y', 'B Y', 'A Z', 'A X', 'A Z', 'A Z', 'C Y', 'C Z', 'A Z', 'C X', 'A X', 'B Y', 'C Y', 'C X', 'C Z', 'B Y', 'C Y', 'A Z', 'A Z', 'C Z', 'A Z', 'A Z', 'A X', 'B Y', 'C Y', 'A Z', 'C X', 'C Y', 'B Y', 'C X', 'B X', 'B Y', 'C Y', 'A Z', 'A Z', 'A X', 'B Y', 'A Z', 'B Y', 'B Y', 'C Z', 'C Z', 'A X', 'A Y', 'B Y', 'C Z', 'B Y', 'B Y', 'C X', 'A Z', 'C Z', 'A X', 'B Y', 'A Y', 'B Y', 'C Z', 'B Y', 'C X', 'B Y', 'B X', 'B Y', 'B Y', 'C Y', 'B X', 'B Y', 'A Z', 'A Z', 'B Z', 'A Z', 'B Y', 'B Y', 'A Y', 'A Z', 'C Z', 'C Y', 'B X', 'B Y', 'C Y', 'B X', 'C X', 'B Y', 'C X', 'A Z', 'B Y', 'B Y', 'B Y', 'C Y', 'B Y', 'B Z', 'A Z', 'B Y', 'A Z', 'C Y', 'B Y', 'B Y', 'B Y', 'B Y', 'C Z', 'B Y', 'B Y', 'B Y', 'A Z', 'C Z', 'B Y', 'B X', 'A Z', 'C X', 'C Y', 'C Z', 'B Y', 'A Z', 'C Y', 'A Y', 'A X', 'C Y', 'A X', 'A Z', 'A Z', 'B X', 'B Y', 'B Y', 'C Y', 'B X', 'B Y', 'A Z', 'B X', 'B Y', 'C Y', 'B Y', 'C X', 'A Z', 'A Z', 'A Z', 'A Z', 'C Z', 'A Y', 'C Z', 'C Z', 'C Z', 'B X', 'B Y', 'B X', 'A Z', 'A Y', 'B Y', 'A X', 'C X', 'C X', 'B Y', 'B Y', 'B Y', 'A X', 'A X', 'B Y', 'C Z', 'B Y', 'A Z', 'C Y', 'B Y', 'B Y', 'A Z', 'C Y', 'C Z', 'A Y', 'A Z', 'B Y', 'C X', 'C X', 'A Z', 'B Y', 'C Y', 'A Z', 'A Z', 'C Z', 'C X', 'B Y', 'C Z', 'C Z', 'B Y', 'A Z', 'A Z', 'B X', 'C X', 'B Y', 'C Y', 'B Y', 'C Y', 'B Y', 'B Y', 'A Z', 'A Y', 'B X', 'C Y', 'B Y', 'C X', 'C X', 'C Y', 'A Z', 'B Y', 'C Y', 'B Y', 'C Y', 'B Y', 'A Y', 'B Y', 'A Z', 'C X', 'C Z', 'C Z', 'C Y', 'B Y', 'C Y', 'B X', 'B X', 'A X', 'B Y', 'A X', 'B Y', 'A Z', 'C X', 'B Y', 'A Z', 'B X', 'B Z', 'B Y', 'B Y', 'C Y', 'B Y', 'A Z', 'B Y', 'C Y', 'C Z', 'A Z', 'C Z', 'B Y', 'B Y', 'B Z', 'A Z', 'B Y', 'C Z', 'B X', 'A Z', 'A X', 'B X', 'B Y', 'A X', 'B Y', 'C Y', 'A Z', 'A Y', 'B Y', 'A Z', 'B Y', 'A Y', 'B Y', 'C Z', 'C Z', 'C Y', 'C Z', 'B Y', 'A Z', 'B X', 'B Y', 'C Y', 'B Y', 'C Y', 'C Y', 'A Z', 'A Z', 'C X', 'A Y', 'C Z', 'B Y', 'B Y', 'B Y', 'C Y', 'B X', 'C Y', 'B Y', 'A Z', 'A Y', 'B Y', 'B Y', 'B Y', 'C X', 'B Y', 'C Z', 'A Y', 'B X', 'A Z', 'A Z', 'C X', 'B Y', 'B Y', 'A Z', 'A Y', 'A Y', 'C Z', 'A Z', 'A Y', 'B Y', 'C X', 'A X', 'A Y', 'B Y', 'A X', 'B Y', 'B X', 'C Y', 'C Z', 'C X', 'B Y', 'C Y', 'A Z', 'B X', 'A Z', 'B Y', 'B Y', 'B Y', 'C Y', 'B Z', 'C Z', 'C Y', 'B Y', 'C Y', 'B X', 'A X', 'B Y', 'B Y', 'A X', 'C Y', 'C Y', 'C Z', 'B X', 'A Z', 'C X', 'A Z', 'A Z', 'C Z', 'C Y', 'B Y', 'C Y', 'C X', 'A Z', 'C Z', 'B Y', 'A Z', 'A Z', 'C Z', 'A X', 'B Y', 'B Y', 'C Y', 'A Z', 'B X', 'B X', 'B X', 'B Y', 'B Y', 'B Y', 'B Y', 'A X', 'B Y', 'B Y', 'B X', 'C X', 'A Z', 'A Z', 'A Z', 'A Z', 'B Y', 'A Z', 'A Z', 'B X', 'A Z', 'C Y', 'B Y', 'B Y', 'B Y', 'B X', 'C Z', 'A Z', 'B Y', 'C X', 'A X', 'C Z', 'B Y', 'C Y', 'C Z', 'A Y', 'C Z', 'C X', 'C Y', 'B Z', 'B Y', 'B Y', 'B Y', 'A Z', 'C Z', 'A Z', 'A Z', 'C Z', 'B X', 'C Z', 'C Y', 'B X', 'B Y', 'C Y', 'B Y', 'B X', 'A Y', 'B Y', 'A Z', 'A Z', 'B Y', 'B Y', 'B X', 'B X', 'B X', 'B Y', 'A Y', 'C X', 'C Y', 'B Y', 'C X', 'B X', 'A Z', 'B Y', 'C X', 'B Y', 'B Y', 'B Y', 'B Y', 'A Z', 'B Y', 'C Z', 'B Y', 'C Z', 'A X', 'A Z', 'C Y', 'B Y', 'C Z', 'B Y', 'A Y', 'C X', 'C X', 'C Y', 'A Z', 'B Y', 'C X', 'B Y', 'B Y', 'A X', 'C X', 'A Z', 'C X', 'A Z', 'B Y', 'C Y', 'B Y', 'B Y', 'C Y', 'A Z', 'A X', 'C X', 'B X', 'B Y', 'B Y', 'A Y', 'B Y', 'B Y', 'C X', 'A Z', 'B Y', 'A Y', 'B Y', 'B Y', 'B Y', 'C Y', 'B Y', 'C X', 'B X', 'B X', 'C X', 'A Z', 'C X', 'C X', 'C Z', 'B Y', 'B Y', 'B Y', 'B Y', 'C Z', 'B X', 'B Y', 'B Y', 'A Z', 'A X', 'A Y', 'A Z', 'C Y', 'B Y', 'B Y', 'C X', 'B Y', 'B Y', 'B X', 'A Y', 'C Y', 'B Y', 'B Y', 'B Y', 'A Z', 'A Z', 'B X', 'C Y', 'B Y', 'A X', 'B Y', 'B Y', 'B X', 'B Y', 'A Y', 'C X', 'B Y', 'C Y', 'C Z', 'A Z', 'A Z', 'C Z', 'C Y', 'A Z', 'B Y', 'B X', 'B Y', 'B Y', 'C Z', 'B Y', 'A Z', 'C X', 'B Y', 'A Z', 'B Y', 'B Y', 'B Y', 'C X', 'A Z', 'A X', 'C Z', 'B Y', 'A Z', 'C Y', 'A Y', 'B Y', 'A Y', 'B Y', 'C Y', 'C Z', 'B Y', 'A Z', 'A Z', 'B Y', 'A X', 'C X', 'C Z', 'C X', 'B X', 'C Z', 'B Z', 'B Y', 'B X', 'C Z', 'B Y', 'C Y', 'C Y', 'A Z', 'B Y', 'B Y', 'B Y', 'B Y', 'C Y', 'A Z', 'B Y', 'A Z', 'C Z', 'A X', 'A Z', 'B Z', 'A Z', 'C Y', 'B Y', 'C Z', 'B Y', 'C Z', 'A Z', 'C Z', 'B Y', 'B Y', 'B Y', 'A Z', 'B Y', 'B X', 'B X', 'B X', 'A Z', 'C Z', 'C Y', 'B X', 'C Z', 'A X', 'B Y', 'C Y', 'B Y', 'B X', 'B Y', 'A Z', 'A X', 'A X', 'B Y', 'C Y', 'C Y', 'B Y', 'B Y', 'A Z', 'C Y', 'A X', 'A Z', 'C Y', 'A Z', 'C Z', 'C Y', 'A Z', 'C Y', 'C X', 'A Z', 'B X', 'B Y', 'A X', 'C Z', 'C Z', 'B X', 'C X', 'B Y', 'A Z', 'C Z', 'C Y', 'C Z', 'C X', 'C Z', 'A X', 'C Z', 'B X', 'C Y', 'C Z', 'B Y', 'C X', 'A Z', 'A Y', 'B Y', 'A Z', 'B Y', 'B Y', 'B X', 'C Z', 'B Y', 'B Y', 'B X', 'B Y', 'C Y', 'C Z', 'B X', 'B Y', 'C Z', 'B Y', 'B Y', 'B Y', 'B Y', 'A Z', 'C Z', 'C Y', 'B X', 'B X', 'B Y', 'B X', 'C Y', 'C Y', 'A Z', 'A Z', 'B X', 'B Y', 'B Y', 'C Z', 'C Z', 'B Y', 'A Z', 'C X', 'C Y', 'C X', 'B Y', 'B Y', 'C Z', 'C X', 'B Y', 'C Y', 'C Z', 'C Y', 'C X', 'C Y', 'B X', 'B X', 'B Y', 'B Y', 'B Y', 'C Z', 'B X', 'B Y', 'C X', 'C Y', 'C Y', 'C X', 'A Z', 'B Y', 'C Y', 'C Z', 'B Y', 'C Y', 'B Y', 'A Y', 'A Z', 'C Z', 'C Z', 'C Y', 'A X', 'C X', 'C Z', 'C Y', 'C Z', 'B X', 'C Z', 'B Y', 'C X', 'C Y', 'C Y', 'A Z', 'B Y', 'A Z', 'B Y', 'A X', 'C Z', 'A Z', 'C Z', 'B Y', 'B Y', 'B Y', 'A Z', 'A X', 'B Y', 'B Z', 'B Y', 'B Y', 'A Z', 'B Y', 'B Y', 'C Z', 'B Z', 'A Z', 'C X', 'B Y', 'A Y', 'B Y', 'C Y', 'C Y', 'C X', 'B Y', 'B Z', 'C Y', 'B Y', 'A Y', 'C X', 'A Z', 'A Z', 'B X', 'C Y', 'B Y', 'B Z', 'A Z', 'A Z', 'B Y', 'A Z', 'A Z', 'A Z', 'C Y', 'A Z', 'A Y', 'A Z', 'C Z', 'C Y', 'B Y', 'A Z', 'B X', 'B Y', 'A Z', 'A Y', 'B X', 'B Y', 'C Y', 'C Z', 'C Y', 'B X', 'C Y', 'B Y', 'B Y', 'A Z', 'A Z', 'B Y', 'C X', 'A X', 'A Z', 'A X', 'A X', 'C Y', 'B Y', 'C Z', 'A Z', 'B Z', 'B Y', 'B Y', 'B Y', 'C X', 'B Y', 'C Z', 'B Y', 'B Y', 'C Z', 'C Z', 'A Z', 'A Z', 'A Z', 'A Z', 'C Y', 'A Z', 'A Z', 'B Y', 'B Y', 'A Z', 'A Z', 'C X', 'C Y', 'A Z', 'B Z', 'B Y', 'C X', 'C X', 'B Y', 'C X', 'B Y', 'C Y', 'C X', 'B Y', 'C Z', 'A X', 'B Y', 'B X', 'B Y', 'C Y', 'B Y', 'A X', 'C X', 'B Y', 'B Y', 'B X', 'B Y', 'A Z', 'A Z', 'A Z', 'A Z', 'B Z', 'B Y', 'B Y', 'C X', 'A Z', 'C Y', 'B Z', 'A X', 'B Y', 'B X', 'B Y', 'A X', 'C X', 'B Y', 'B Y', 'A Z', 'B Y', 'C Z', 'A Y', 'B X', 'C X', 'B Y', 'B Y', 'A Z', 'C X', 'C Y', 'B Y', 'C Y', 'C Z', 'A Y', 'A Z', 'B Y', 'B Y', 'A Z', 'C Y', 'B Y', 'C Y', 'C X', 'C X', 'C Y', 'C Z', 'A Z', 'C X', 'B Y', 'A Z', 'B Y', 'C X', 'B Y', 'B Y', 'A Z', 'A Z', 'C X', 'B Y', 'A Z', 'B Y', 'A Y', 'B X', 'B Y', 'B X', 'A Y', 'B Y', 'B X', 'B Y', 'A Z', 'B Y', 'C Z', 'B Y', 'B Y', 'B Y', 'A Y', 'B Y', 'C Z', 'B X', 'B Y', 'A X', 'A Z', 'B Y', 'A Z', 'B X', 'C Y', 'B Y', 'B Z', 'C Y', 'B Y', 'C Y', 'C X', 'C X', 'C Z', 'B Y', 'B Y', 'B Y', 'A Z', 'B X', 'A Z', 'C Z', 'B Y', 'A Y', 'B Y', 'C Y', 'A Z', 'B Y', 'A Y', 'B X', 'B Y', 'C Y', 'C Y', 'A Z', 'A Z', 'B Y', 'C Y', 'C Z', 'A Z', 'A X', 'B Y', 'B Y', 'B Y', 'B Y', 'A Z', 'C Y', 'A Z', 'B Y', 'B Y', 'C Z', 'A Z', 'A X', 'C Y', 'B Y', 'B Y', 'A Z', 'B X', 'C Z', 'C Y', 'C Z', 'C Y', 'B Y', 'A Z', 'A Z', 'B Y', 'A Z', 'A Z', 'B Z', 'C X', 'C X', 'B Y', 'C Z', 'A Z', 'B X', 'A X', 'A Y', 'C Y', 'C Y', 'A Z', 'C Y', 'B Y', 'A Z', 'A Z', 'C Y', 'B Y', 'A Y', 'B X', 'C Z', 'B Y', 'B Y', 'A Z', 'B Z', 'C Z', 'B Y', 'B Y', 'B Y', 'A Y', 'C Y', 'A Z', 'A X', 'B Y', 'B Y', 'B Y', 'C Z', 'A X', 'B Y', 'B Y', 'C Y', 'B X', 'B Y', 'A Z', 'B Y', 'A Z', 'A Y', 'C Y', 'B Y', 'B Y', 'A Z', 'B X', 'A Z', 'A Z', 'A Z', 'B Y', 'A Y', 'C Z', 'B Y', 'B X', 'B Y', 'B Y', 'B Y', 'B Y', 'B Y', 'A X', 'C Z', 'B Y', 'B Y', 'B Y', 'C Z', 'B X', 'A Y', 'B X', 'C Z', 'B Y', 'C X', 'C X', 'A Z', 'B Y', 'B Y', 'A Z', 'C X', 'C X', 'A Z', 'B X', 'B Y', 'C X', 'C Z', 'A X', 'B X', 'B Y', '']\n"
     ]
    }
   ],
   "source": [
    "print(list)"
   ]
  },
  {
   "cell_type": "code",
   "execution_count": null,
   "metadata": {},
   "outputs": [],
   "source": []
  }
 ],
 "metadata": {
  "kernelspec": {
   "display_name": "Python 3.10.4 64-bit",
   "language": "python",
   "name": "python3"
  },
  "language_info": {
   "codemirror_mode": {
    "name": "ipython",
    "version": 3
   },
   "file_extension": ".py",
   "mimetype": "text/x-python",
   "name": "python",
   "nbconvert_exporter": "python",
   "pygments_lexer": "ipython3",
   "version": "3.10.4"
  },
  "orig_nbformat": 4,
  "vscode": {
   "interpreter": {
    "hash": "52c95d02f1bfe7c59da35d3ff8fa76f7d162251a8bf0068369a0a87df4b3e5e7"
   }
  }
 },
 "nbformat": 4,
 "nbformat_minor": 2
}
